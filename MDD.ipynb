{
 "cells": [
  {
   "cell_type": "code",
   "execution_count": 1,
   "id": "952fe286-a562-49da-8d84-3c25c635b870",
   "metadata": {},
   "outputs": [],
   "source": [
    "import pandas as pd\n",
    "import matplotlib.pyplot as plt"
   ]
  },
  {
   "cell_type": "code",
   "execution_count": 2,
   "id": "d5e735d2-7a92-40b4-badb-40f20c72fa0d",
   "metadata": {},
   "outputs": [],
   "source": [
    "# cargamos el archivo CSV\n",
    "data = pd.read_csv('201601.csv', encoding='latin-1')"
   ]
  },
  {
   "cell_type": "code",
   "execution_count": 3,
   "id": "3548f04b-bb44-4730-b651-64736b6a594a",
   "metadata": {},
   "outputs": [],
   "source": [
    "\n",
    "\n",
    "# Juntar las columnas \"f_agenda\" y \"h_agenda\" en \"t_agenda\"\n",
    "data['t_agenda'] = data['f_agenda'] + ' ' + data['h_agenda']\n",
    "\n",
    "# Eliminar las columnas \"f_agenda\" y \"h_agenda\"\n",
    "data.drop(['f_agenda', 'h_agenda'], axis=1, inplace=True)\n",
    "\n",
    "# Juntar las columnas \"f_anul\" y \"h_anul\" en \"t_anul\"\n",
    "data['t_anul'] = data['f_anul'] + ' ' + data['h_anul']\n",
    "\n",
    "# Eliminar las columnas \"f_anul\" y \"h_anul\"\n",
    "data.drop(['f_anul', 'h_anul'], axis=1, inplace=True)\n",
    "\n",
    "#eliminar uo\n",
    "data.drop('uo', axis=1, inplace=True)\n",
    "\n",
    "#eliminar direccion\n",
    "data.drop('direccion', axis=1, inplace=True)\n",
    "\n",
    "#eliminar distrito\n",
    "data.drop('distrito', axis=1, inplace=True)\n",
    "\n",
    "#eliminar episodio\n",
    "data.drop('episodio', axis=1, inplace=True)\n",
    "\n",
    "#eliminar rut\n",
    "\n",
    "data.drop('rut', axis=1, inplace=True)\n",
    "\n"
   ]
  },
  {
   "cell_type": "code",
   "execution_count": 4,
   "id": "255ad3a2-94c5-4a79-a6d7-39d41b73dd16",
   "metadata": {},
   "outputs": [
    {
     "name": "stdout",
     "output_type": "stream",
     "text": [
      "   asignenf      medico  f_creacion u_creacion f_modificacion u_modificacion   \n",
      "0   IBARP06   4777923-5  13.01.2016   AGENDAIT     13.01.2016        CCENTER  \\\n",
      "1  ILSRP02A  13529539-6  25.01.2016   AGENDAIT     26.01.2016        TMOLINA   \n",
      "2   ITORP02   6572813-3  04.01.2016   AGENDAIT     04.01.2016       RROJASAA   \n",
      "3   ITORP02   6572813-3  05.01.2016    VAPEREZ     11.01.2016     CHENRIQUEZ   \n",
      "4   IPVRP05   8206865-1  07.01.2016      JRUBI     12.01.2016        AHARAYA   \n",
      "\n",
      "   duracion especialidad anulado mot_anul          poblacion  sexo   \n",
      "0        15         2420     NaN      NaN                NaN   NaN  \\\n",
      "1        20         2690     NaN      NaN  VILLA LA  FLORIDA   1.0   \n",
      "2        15         3440       X       51                  X   1.0   \n",
      "3        15         3440       X      OMO                  X   1.0   \n",
      "4        15         3440     NaN      NaN                  X   1.0   \n",
      "\n",
      "  f_nacimiento  paciente  aseguradora             t_agenda   \n",
      "0   02.02.1982  10172567          NaN  14.01.2016 09:00:00  \\\n",
      "1   21.11.1980  12137301     900001.0  26.01.2016 09:10:00   \n",
      "2   11.11.1975  12561135          NaN  08.01.2016 18:15:00   \n",
      "3   11.11.1975  12561135          NaN  11.01.2016 18:00:00   \n",
      "4   11.11.1975  12561135     900012.0  12.01.2016 16:00:00   \n",
      "\n",
      "                t_anul  \n",
      "0  00.00.0000 09:00:00  \n",
      "1  00.00.0000 09:10:00  \n",
      "2  04.01.2016 18:15:00  \n",
      "3  11.01.2016 18:00:00  \n",
      "4  00.00.0000 16:00:00  \n"
     ]
    }
   ],
   "source": [
    "print(data.head())"
   ]
  },
  {
   "cell_type": "code",
   "execution_count": null,
   "id": "bd56753f-6af6-40a3-8b43-84418c3acac6",
   "metadata": {},
   "outputs": [],
   "source": []
  },
  {
   "cell_type": "code",
   "execution_count": null,
   "id": "29192122-f49d-495e-b67c-ced3fbacdd1f",
   "metadata": {},
   "outputs": [],
   "source": []
  }
 ],
 "metadata": {
  "kernelspec": {
   "display_name": "Python 3 (ipykernel)",
   "language": "python",
   "name": "python3"
  },
  "language_info": {
   "codemirror_mode": {
    "name": "ipython",
    "version": 3
   },
   "file_extension": ".py",
   "mimetype": "text/x-python",
   "name": "python",
   "nbconvert_exporter": "python",
   "pygments_lexer": "ipython3",
   "version": "3.11.3"
  }
 },
 "nbformat": 4,
 "nbformat_minor": 5
}
