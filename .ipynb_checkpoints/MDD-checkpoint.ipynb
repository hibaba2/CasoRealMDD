{
 "cells": [
  {
   "cell_type": "code",
   "execution_count": 17,
   "id": "952fe286-a562-49da-8d84-3c25c635b870",
   "metadata": {},
   "outputs": [],
   "source": [
    "import pandas as pd\n",
    "import matplotlib.pyplot as plt"
   ]
  },
  {
   "cell_type": "code",
   "execution_count": 19,
   "id": "d5e735d2-7a92-40b4-badb-40f20c72fa0d",
   "metadata": {},
   "outputs": [],
   "source": [
    "# cargamos el archivo CSV\n",
    "data = pd.read_csv('201601.csv', encoding='latin-1')"
   ]
  },
  {
   "cell_type": "code",
   "execution_count": 20,
   "id": "28826a81-cbfb-4d04-83ca-bc6f5746f56d",
   "metadata": {},
   "outputs": [
    {
     "name": "stdout",
     "output_type": "stream",
     "text": [
      "Empty DataFrame\n",
      "Columns: [f_agenda, h_agenda, uo, asignenf, medico, f_creacion, u_creacion, f_modificacion, u_modificacion, duracion, especialidad, episodio, anulado, mot_anul, f_anul, h_anul, poblacion, distrito, direccion, sexo, f_nacimiento, paciente, rut, aseguradora]\n",
      "Index: []\n",
      "\n",
      "[0 rows x 24 columns]\n"
     ]
    }
   ],
   "source": [
    "# Mostramos las cabeceras para ver el orden del dataset\n",
    "cabeceras = data.head(0)\n",
    "print(cabeceras)"
   ]
  },
  {
   "cell_type": "code",
   "execution_count": 21,
   "id": "3548f04b-bb44-4730-b651-64736b6a594a",
   "metadata": {},
   "outputs": [],
   "source": [
    "\n",
    "\n",
    "# Juntar las columnas \"f_agenda\" y \"h_agenda\" en \"t_agenda\"\n",
    "data['t_agenda'] = data['f_agenda'] + ' ' + data['h_agenda']\n",
    "\n",
    "# Eliminar las columnas \"f_agenda\" y \"h_agenda\"\n",
    "data.drop(['f_agenda', 'h_agenda'], axis=1, inplace=True)\n",
    "\n",
    "# Juntar las columnas \"f_anul\" y \"h_anul\" en \"t_anul\"\n",
    "data['t_anul'] = data['f_anul'] + ' ' + data['h_anul']\n",
    "\n",
    "# Eliminar las columnas \"f_anul\" y \"h_anul\"\n",
    "data.drop(['f_anul', 'h_anul'], axis=1, inplace=True)\n",
    "\n",
    "#eliminar uo\n",
    "data.drop('uo', axis=1, inplace=True)"
   ]
  },
  {
   "cell_type": "code",
   "execution_count": 22,
   "id": "255ad3a2-94c5-4a79-a6d7-39d41b73dd16",
   "metadata": {},
   "outputs": [
    {
     "name": "stdout",
     "output_type": "stream",
     "text": [
      "         uo  asignenf      medico  f_creacion u_creacion f_modificacion   \n",
      "0   IBAGIOB   IBARP06   4777923-5  13.01.2016   AGENDAIT     13.01.2016  \\\n",
      "1  ILSMEGRA  ILSRP02A  13529539-6  25.01.2016   AGENDAIT     26.01.2016   \n",
      "2   ITOTRAU   ITORP02   6572813-3  04.01.2016   AGENDAIT     04.01.2016   \n",
      "3   ITOTRAU   ITORP02   6572813-3  05.01.2016    VAPEREZ     11.01.2016   \n",
      "4   IPVTRAU   IPVRP05   8206865-1  07.01.2016      JRUBI     12.01.2016   \n",
      "\n",
      "  u_modificacion  duracion especialidad    episodio  ...          poblacion   \n",
      "0        CCENTER        15         2420         NaN  ...                NaN  \\\n",
      "1        TMOLINA        20         2690  37147336.0  ...  VILLA LA  FLORIDA   \n",
      "2       RROJASAA        15         3440         NaN  ...                  X   \n",
      "3     CHENRIQUEZ        15         3440         NaN  ...                  X   \n",
      "4        AHARAYA        15         3440  36907162.0  ...                  X   \n",
      "\n",
      "    distrito       direccion sexo f_nacimiento  paciente         rut   \n",
      "0        NaN             NaN  NaN   02.02.1982  10172567  15377213-4  \\\n",
      "1  LA SERENA  LINCOYAN  4255  1.0   21.11.1980  12137301  13876411-7   \n",
      "2          X               X  1.0   11.11.1975  12561135  12881212-1   \n",
      "3          X               X  1.0   11.11.1975  12561135  12881212-1   \n",
      "4          X               X  1.0   11.11.1975  12561135  12881212-1   \n",
      "\n",
      "   aseguradora             t_agenda               t_anul  \n",
      "0          NaN  14.01.2016 09:00:00  00.00.0000 09:00:00  \n",
      "1     900001.0  26.01.2016 09:10:00  00.00.0000 09:10:00  \n",
      "2          NaN  08.01.2016 18:15:00  04.01.2016 18:15:00  \n",
      "3          NaN  11.01.2016 18:00:00  11.01.2016 18:00:00  \n",
      "4     900012.0  12.01.2016 16:00:00  00.00.0000 16:00:00  \n",
      "\n",
      "[5 rows x 22 columns]\n"
     ]
    }
   ],
   "source": [
    "print(data.head())"
   ]
  },
  {
   "cell_type": "code",
   "execution_count": null,
   "id": "bd56753f-6af6-40a3-8b43-84418c3acac6",
   "metadata": {},
   "outputs": [],
   "source": []
  }
 ],
 "metadata": {
  "kernelspec": {
   "display_name": "Python 3 (ipykernel)",
   "language": "python",
   "name": "python3"
  },
  "language_info": {
   "codemirror_mode": {
    "name": "ipython",
    "version": 3
   },
   "file_extension": ".py",
   "mimetype": "text/x-python",
   "name": "python",
   "nbconvert_exporter": "python",
   "pygments_lexer": "ipython3",
   "version": "3.11.3"
  }
 },
 "nbformat": 4,
 "nbformat_minor": 5
}
